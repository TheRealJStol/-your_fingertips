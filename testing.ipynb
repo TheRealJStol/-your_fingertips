{
 "cells": [
  {
   "cell_type": "code",
   "execution_count": 2,
   "id": "b4e414b2",
   "metadata": {},
   "outputs": [
    {
     "name": "stdout",
     "output_type": "stream",
     "text": [
      "loading zero‑shot model … "
     ]
    },
    {
     "name": "stderr",
     "output_type": "stream",
     "text": [
      "c:\\Users\\jared\\AppData\\Local\\Programs\\Python\\Python310\\lib\\site-packages\\huggingface_hub\\file_download.py:143: UserWarning: `huggingface_hub` cache-system uses symlinks by default to efficiently store duplicated files but your machine does not support them in C:\\Users\\jared\\.cache\\huggingface\\hub\\models--valhalla--distilbart-mnli-12-3. Caching files will still work but in a degraded version that might require more space on your disk. This warning can be disabled by setting the `HF_HUB_DISABLE_SYMLINKS_WARNING` environment variable. For more details, see https://huggingface.co/docs/huggingface_hub/how-to-cache#limitations.\n",
      "To support symlinks on Windows, you either need to activate Developer Mode or to run Python as an administrator. In order to activate developer mode, see this article: https://docs.microsoft.com/en-us/windows/apps/get-started/enable-your-device-for-development\n",
      "  warnings.warn(message)\n",
      "Device set to use cpu\n"
     ]
    },
    {
     "name": "stdout",
     "output_type": "stream",
     "text": [
      "done.\n"
     ]
    }
   ],
   "source": [
    "import torch                              # import *first*\n",
    "from transformers import pipeline         # transformers sees torch now\n",
    "import requests, networkx as nx\n",
    "import os, time, itertools, pickle, functools, re, sys\n",
    "\n",
    "print(\"loading zero‑shot model … \", end=\"\", flush=True)\n",
    "zero_shot = pipeline(\n",
    "    \"zero-shot-classification\",\n",
    "    model=\"valhalla/distilbart-mnli-12-3\",\n",
    ")\n",
    "print(\"done.\")"
   ]
  },
  {
   "cell_type": "code",
   "execution_count": 3,
   "id": "a9454bc8",
   "metadata": {},
   "outputs": [],
   "source": [
    "# ───── free local LLM gatekeeper ───────────────────────────────────\n",
    "\n",
    "CANDIDATES = [\"mathematics\", \"not mathematics\"]\n",
    "\n",
    "@functools.lru_cache(maxsize=8192)\n",
    "def is_math_topic(label: str) -> bool:\n",
    "    \"\"\"Cheap heuristic first, else free MNLI classifier.\"\"\"\n",
    "    label_low = label.lower()\n",
    "    if re.search(r\"\\b(algebra|geometry|calculus|number theory|mathem)\", label_low):\n",
    "        return True\n",
    "    if re.search(r\"\\b(music|film|politic|football|chemical|history)\", label_low):\n",
    "        return False\n",
    "    out = zero_shot(label, CANDIDATES)\n",
    "    score = dict(zip(out[\"labels\"], out[\"scores\"]))[\"mathematics\"]\n",
    "    return score >= 0.5           # tweak threshold if desired\n",
    "\n",
    "# ───── Wikidata crawl parameters ──────────────────────────────────\n",
    "SPARQL   = \"https://query.wikidata.org/sparql\"\n",
    "HEADERS  = {\"User-Agent\": \"MathGraph-FreeLLM/1.0\"}    # ASCII only\n",
    "ROOTS    = [\"Q395\"]           # Mathematics\n",
    "CHUNK    = 100               # Q‑ids per VALUES clause\n",
    "PAUSE    = 0.1               # polite delay (s) between WDQS calls\n",
    "MAX_NODES = 8000             # safety cap so you don’t DOS yourself\n",
    "\n",
    "# ───── helper functions ───────────────────────────────────────────\n",
    "def sparql(q: str):\n",
    "    \"\"\"POST query, return row list, die noisily on error.\"\"\"\n",
    "    r = requests.post(SPARQL,\n",
    "                      data={\"query\": q, \"format\": \"json\"},\n",
    "                      headers=HEADERS, timeout=60)\n",
    "    r.raise_for_status()\n",
    "    return r.json()[\"results\"][\"bindings\"]\n",
    "\n",
    "def batches(seq, n):\n",
    "    it = iter(seq)\n",
    "    while (chunk := list(itertools.islice(it, n))):\n",
    "        yield chunk"
   ]
  },
  {
   "cell_type": "code",
   "execution_count": 4,
   "id": "c5289a14",
   "metadata": {},
   "outputs": [
    {
     "name": "stdout",
     "output_type": "stream",
     "text": [
      "\n",
      "‣ crawling Wikidata …\n",
      "  depth 1: +51 nodes (total 52)\n",
      "  depth 2: +98 nodes (total 150)\n",
      "  depth 3: +52 nodes (total 202)\n",
      "  depth 4: +9 nodes (total 211)\n",
      "  depth 5: +3 nodes (total 214)\n",
      "  depth 6: +0 nodes (total 214)\n",
      "✔ Stage 1 done → 214 nodes\n",
      "\n"
     ]
    }
   ],
   "source": [
    "# ───── Stage 1 – breadth‑first crawl with LLM filter ──────────────\n",
    "all_nodes   = set(ROOTS)\n",
    "frontier    = set(ROOTS)\n",
    "depth       = 0\n",
    "\n",
    "print(\"\\n‣ crawling Wikidata …\")\n",
    "while frontier and len(all_nodes) < MAX_NODES:\n",
    "    depth += 1\n",
    "    next_frontier = set()\n",
    "\n",
    "    for chunk in batches(frontier, CHUNK):\n",
    "        vals = \" \".join(f\"wd:{q}\" for q in chunk)\n",
    "        q = f\"\"\"\n",
    "        SELECT DISTINCT ?child ?childLabel WHERE {{\n",
    "          VALUES ?parent {{ {vals} }}\n",
    "          ?child (wdt:P279|wdt:P31) ?parent .\n",
    "          SERVICE wikibase:label {{ bd:serviceParam wikibase:language \"en\". }}\n",
    "        }}\n",
    "        \"\"\"\n",
    "        for row in sparql(q):\n",
    "            child = row[\"child\"][\"value\"].rsplit(\"/\", 1)[-1]\n",
    "            label = row[\"childLabel\"][\"value\"]\n",
    "            if child not in all_nodes and is_math_topic(label):\n",
    "                all_nodes.add(child)\n",
    "                next_frontier.add(child)\n",
    "        time.sleep(PAUSE)\n",
    "\n",
    "    print(f\"  depth {depth}: +{len(next_frontier):,} nodes \"\n",
    "          f\"(total {len(all_nodes):,})\")\n",
    "    frontier = next_frontier\n",
    "\n",
    "print(f\"✔ Stage 1 done → {len(all_nodes):,} nodes\\n\")"
   ]
  },
  {
   "cell_type": "code",
   "execution_count": 5,
   "id": "22b0f378",
   "metadata": {},
   "outputs": [
    {
     "name": "stdout",
     "output_type": "stream",
     "text": [
      "‣ fetching intra‑set edges …\n",
      "✔ Stage 2 done → 259 edges\n",
      "\n"
     ]
    }
   ],
   "source": [
    "# ───── Stage 2 – collect edges within node set ────────────────────\n",
    "edges = []\n",
    "node_set = set(all_nodes)\n",
    "print(\"‣ fetching intra‑set edges …\")\n",
    "\n",
    "for chunk in batches(all_nodes, CHUNK):\n",
    "    vals = \" \".join(f\"wd:{q}\" for q in chunk)\n",
    "    q = f\"\"\"\n",
    "    SELECT ?parent ?child WHERE {{\n",
    "      VALUES ?child {{ {vals} }}\n",
    "      {{ ?child (wdt:P279|wdt:P31|wdt:P361) ?parent. }}\n",
    "      UNION\n",
    "      {{ ?parent wdt:P361 ?child. }}\n",
    "    }}\n",
    "    \"\"\"\n",
    "    for row in sparql(q):\n",
    "        p = row[\"parent\"][\"value\"].rsplit(\"/\", 1)[-1]\n",
    "        c = row[\"child\"][\"value\"].rsplit(\"/\", 1)[-1]\n",
    "        if p in node_set and c in node_set:\n",
    "            edges.append((p, c))\n",
    "    time.sleep(PAUSE)\n",
    "\n",
    "edges = list(set(edges))\n",
    "print(f\"✔ Stage 2 done → {len(edges):,} edges\\n\")"
   ]
  },
  {
   "cell_type": "code",
   "execution_count": 6,
   "id": "952a4c87",
   "metadata": {},
   "outputs": [
    {
     "name": "stdout",
     "output_type": "stream",
     "text": [
      "‣ downloading labels …\n",
      "✔ labels fetched (188)\n",
      "\n"
     ]
    }
   ],
   "source": [
    "# ───── Stage 3 – English labels for remaining nodes ───────────────\n",
    "labels = {}\n",
    "print(\"‣ downloading labels …\")\n",
    "for chunk in batches(all_nodes, 200):\n",
    "    vals = \" \".join(f\"wd:{q}\" for q in chunk)\n",
    "    q = f\"\"\"\n",
    "    SELECT ?id ?label WHERE {{\n",
    "      VALUES ?id {{ {vals} }}\n",
    "      ?id rdfs:label ?label .\n",
    "      FILTER (lang(?label) = \"en\")\n",
    "    }}\n",
    "    \"\"\"\n",
    "    for row in sparql(q):\n",
    "        qid   = row[\"id\"][\"value\"].rsplit(\"/\", 1)[-1]\n",
    "        label = row[\"label\"][\"value\"]\n",
    "        labels[qid] = label\n",
    "    time.sleep(PAUSE)\n",
    "\n",
    "print(f\"✔ labels fetched ({len(labels):,})\\n\")"
   ]
  },
  {
   "cell_type": "code",
   "execution_count": 7,
   "id": "40b983c6",
   "metadata": {},
   "outputs": [
    {
     "name": "stdout",
     "output_type": "stream",
     "text": [
      "✔ graph built → 214 nodes | 259 edges\n",
      "✔ pickle saved → math_graph.pkl\n"
     ]
    }
   ],
   "source": [
    "# ───── Stage 4 – build graph & write artifacts ────────────────────\n",
    "G = nx.DiGraph()\n",
    "for q in all_nodes:\n",
    "    G.add_node(q, label=labels.get(q, q))\n",
    "G.add_edges_from(edges)\n",
    "\n",
    "print(f\"✔ graph built → {G.number_of_nodes():,} nodes | \"\n",
    "      f\"{G.number_of_edges():,} edges\")\n",
    "\n",
    "PICKLE = \"math_graph.pkl\"\n",
    "with open(PICKLE, \"wb\") as f:\n",
    "    pickle.dump(G, f, protocol=pickle.HIGHEST_PROTOCOL)\n",
    "print(f\"✔ pickle saved → {PICKLE}\")"
   ]
  },
  {
   "cell_type": "code",
   "execution_count": 8,
   "id": "6aed4bb8",
   "metadata": {},
   "outputs": [
    {
     "name": "stdout",
     "output_type": "stream",
     "text": [
      "‣ generating interactive HTML … math_graph.html\n",
      "done.  Open math_graph.html in a browser.\n",
      "\n",
      "🏁 All set – enjoy exploring the mathematics universe!\n"
     ]
    }
   ],
   "source": [
    "# ───── Stage 5 – interactive PyVis graph ──────────────────────────\n",
    "print(\"‣ generating interactive HTML … \", end=\"\", flush=True)\n",
    "from pyvis.network import Network\n",
    "net = Network(height=\"900px\", width=\"100%\", directed=True,\n",
    "              bgcolor=\"#ffffff\", notebook=False)\n",
    "net.from_nx(G)\n",
    "net.toggle_physics(True)\n",
    "HTML = \"math_graph.html\"\n",
    "net.show(HTML, notebook=False)\n",
    "print(f\"done.  Open {HTML} in a browser.\\n\")\n",
    "\n",
    "print(\"🏁 All set – enjoy exploring the mathematics universe!\")"
   ]
  }
 ],
 "metadata": {
  "kernelspec": {
   "display_name": "Python 3",
   "language": "python",
   "name": "python3"
  },
  "language_info": {
   "codemirror_mode": {
    "name": "ipython",
    "version": 3
   },
   "file_extension": ".py",
   "mimetype": "text/x-python",
   "name": "python",
   "nbconvert_exporter": "python",
   "pygments_lexer": "ipython3",
   "version": "3.10.5"
  }
 },
 "nbformat": 4,
 "nbformat_minor": 5
}
